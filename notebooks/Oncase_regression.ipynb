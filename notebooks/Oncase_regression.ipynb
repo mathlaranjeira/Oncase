{
 "cells": [
  {
   "cell_type": "markdown",
   "id": "c673da89",
   "metadata": {},
   "source": [
    "### 1. Pacotes"
   ]
  },
  {
   "cell_type": "markdown",
   "id": "0f94968f",
   "metadata": {},
   "source": [
    "Iniciamos o projeto carregando os pacotes necessários:"
   ]
  },
  {
   "cell_type": "code",
   "execution_count": 1,
   "id": "2f156586",
   "metadata": {},
   "outputs": [],
   "source": [
    "import pandas as pd\n",
    "import numpy as np\n",
    "import seaborn as sns\n",
    "import matplotlib.pyplot as plt\n",
    "from scipy.stats import iqr, pearsonr\n",
    "from sklearn.linear_model import LinearRegression\n",
    "from sklearn.tree import DecisionTreeRegressor\n",
    "from sklearn.ensemble import RandomForestRegressor\n",
    "from sklearn.svm import SVR\n",
    "from xgboost import XGBRegressor\n",
    "from sklearn.metrics import r2_score\n",
    "from sklearn.metrics import mean_squared_error\n",
    "from math import sqrt"
   ]
  },
  {
   "cell_type": "markdown",
   "id": "d554ab56",
   "metadata": {},
   "source": [
    "### 2. Base de Dados"
   ]
  },
  {
   "cell_type": "markdown",
   "id": "43a0251e",
   "metadata": {},
   "source": [
    "Para continuar com o projeto de regressão, utilizamos a função apropriada para importar as bases de dados de treino e de teste:"
   ]
  },
  {
   "cell_type": "code",
   "execution_count": 2,
   "id": "10d7f4b0",
   "metadata": {},
   "outputs": [],
   "source": [
    "df_train = pd.read_csv('regression_train.csv')\n",
    "df_test = pd.read_csv('regression_test.csv')"
   ]
  },
  {
   "cell_type": "code",
   "execution_count": 3,
   "id": "fefe73e9",
   "metadata": {},
   "outputs": [
    {
     "data": {
      "text/html": [
       "<div>\n",
       "<style scoped>\n",
       "    .dataframe tbody tr th:only-of-type {\n",
       "        vertical-align: middle;\n",
       "    }\n",
       "\n",
       "    .dataframe tbody tr th {\n",
       "        vertical-align: top;\n",
       "    }\n",
       "\n",
       "    .dataframe thead th {\n",
       "        text-align: right;\n",
       "    }\n",
       "</style>\n",
       "<table border=\"1\" class=\"dataframe\">\n",
       "  <thead>\n",
       "    <tr style=\"text-align: right;\">\n",
       "      <th></th>\n",
       "      <th>target</th>\n",
       "      <th>X1</th>\n",
       "      <th>X2</th>\n",
       "      <th>X3</th>\n",
       "      <th>X4</th>\n",
       "      <th>X5</th>\n",
       "      <th>X6</th>\n",
       "      <th>X7</th>\n",
       "    </tr>\n",
       "  </thead>\n",
       "  <tbody>\n",
       "    <tr>\n",
       "      <th>0</th>\n",
       "      <td>NaN</td>\n",
       "      <td>-0.546168</td>\n",
       "      <td>NaN</td>\n",
       "      <td>47.063305</td>\n",
       "      <td>1.611370</td>\n",
       "      <td>-65.882137</td>\n",
       "      <td>0</td>\n",
       "      <td>-16.672865</td>\n",
       "    </tr>\n",
       "    <tr>\n",
       "      <th>1</th>\n",
       "      <td>47.735389</td>\n",
       "      <td>3.074317</td>\n",
       "      <td>-2.836000</td>\n",
       "      <td>49.396649</td>\n",
       "      <td>0.261998</td>\n",
       "      <td>-66.570716</td>\n",
       "      <td>0</td>\n",
       "      <td>-6.664599</td>\n",
       "    </tr>\n",
       "    <tr>\n",
       "      <th>2</th>\n",
       "      <td>NaN</td>\n",
       "      <td>-1.485531</td>\n",
       "      <td>-13.102537</td>\n",
       "      <td>42.367991</td>\n",
       "      <td>3.991558</td>\n",
       "      <td>-67.108014</td>\n",
       "      <td>8</td>\n",
       "      <td>-30.790962</td>\n",
       "    </tr>\n",
       "    <tr>\n",
       "      <th>3</th>\n",
       "      <td>908.202209</td>\n",
       "      <td>6.907396</td>\n",
       "      <td>-0.308967</td>\n",
       "      <td>57.228787</td>\n",
       "      <td>0.256771</td>\n",
       "      <td>-66.181266</td>\n",
       "      <td>5</td>\n",
       "      <td>-0.726072</td>\n",
       "    </tr>\n",
       "    <tr>\n",
       "      <th>4</th>\n",
       "      <td>1640.461863</td>\n",
       "      <td>1.916788</td>\n",
       "      <td>3.460290</td>\n",
       "      <td>51.703375</td>\n",
       "      <td>2.463790</td>\n",
       "      <td>-65.143663</td>\n",
       "      <td>5</td>\n",
       "      <td>8.131680</td>\n",
       "    </tr>\n",
       "  </tbody>\n",
       "</table>\n",
       "</div>"
      ],
      "text/plain": [
       "        target        X1         X2         X3        X4         X5  X6  \\\n",
       "0          NaN -0.546168        NaN  47.063305  1.611370 -65.882137   0   \n",
       "1    47.735389  3.074317  -2.836000  49.396649  0.261998 -66.570716   0   \n",
       "2          NaN -1.485531 -13.102537  42.367991  3.991558 -67.108014   8   \n",
       "3   908.202209  6.907396  -0.308967  57.228787  0.256771 -66.181266   5   \n",
       "4  1640.461863  1.916788   3.460290  51.703375  2.463790 -65.143663   5   \n",
       "\n",
       "          X7  \n",
       "0 -16.672865  \n",
       "1  -6.664599  \n",
       "2 -30.790962  \n",
       "3  -0.726072  \n",
       "4   8.131680  "
      ]
     },
     "execution_count": 3,
     "metadata": {},
     "output_type": "execute_result"
    }
   ],
   "source": [
    "df_train.head()"
   ]
  },
  {
   "cell_type": "code",
   "execution_count": 4,
   "id": "bb147681",
   "metadata": {},
   "outputs": [
    {
     "data": {
      "text/html": [
       "<div>\n",
       "<style scoped>\n",
       "    .dataframe tbody tr th:only-of-type {\n",
       "        vertical-align: middle;\n",
       "    }\n",
       "\n",
       "    .dataframe tbody tr th {\n",
       "        vertical-align: top;\n",
       "    }\n",
       "\n",
       "    .dataframe thead th {\n",
       "        text-align: right;\n",
       "    }\n",
       "</style>\n",
       "<table border=\"1\" class=\"dataframe\">\n",
       "  <thead>\n",
       "    <tr style=\"text-align: right;\">\n",
       "      <th></th>\n",
       "      <th>target</th>\n",
       "      <th>X1</th>\n",
       "      <th>X2</th>\n",
       "      <th>X3</th>\n",
       "      <th>X4</th>\n",
       "      <th>X5</th>\n",
       "      <th>X6</th>\n",
       "      <th>X7</th>\n",
       "    </tr>\n",
       "  </thead>\n",
       "  <tbody>\n",
       "    <tr>\n",
       "      <th>0</th>\n",
       "      <td>3.436244</td>\n",
       "      <td>0.210854</td>\n",
       "      <td>-2.451307</td>\n",
       "      <td>51.239996</td>\n",
       "      <td>4.641751</td>\n",
       "      <td>-67.874319</td>\n",
       "      <td>5</td>\n",
       "      <td>-5.760571</td>\n",
       "    </tr>\n",
       "    <tr>\n",
       "      <th>1</th>\n",
       "      <td>1525.839412</td>\n",
       "      <td>2.157483</td>\n",
       "      <td>4.337776</td>\n",
       "      <td>43.828794</td>\n",
       "      <td>8.070219</td>\n",
       "      <td>-68.405526</td>\n",
       "      <td>8</td>\n",
       "      <td>10.193773</td>\n",
       "    </tr>\n",
       "    <tr>\n",
       "      <th>2</th>\n",
       "      <td>455.600191</td>\n",
       "      <td>5.166359</td>\n",
       "      <td>-0.452615</td>\n",
       "      <td>43.931305</td>\n",
       "      <td>1.349625</td>\n",
       "      <td>-66.240021</td>\n",
       "      <td>0</td>\n",
       "      <td>-1.063645</td>\n",
       "    </tr>\n",
       "    <tr>\n",
       "      <th>3</th>\n",
       "      <td>0.619759</td>\n",
       "      <td>3.276641</td>\n",
       "      <td>-3.607201</td>\n",
       "      <td>50.631046</td>\n",
       "      <td>2.473542</td>\n",
       "      <td>-69.971690</td>\n",
       "      <td>8</td>\n",
       "      <td>-8.476921</td>\n",
       "    </tr>\n",
       "    <tr>\n",
       "      <th>4</th>\n",
       "      <td>10.996472</td>\n",
       "      <td>-1.867485</td>\n",
       "      <td>-2.408863</td>\n",
       "      <td>58.660224</td>\n",
       "      <td>2.826219</td>\n",
       "      <td>-53.647149</td>\n",
       "      <td>5</td>\n",
       "      <td>-5.660827</td>\n",
       "    </tr>\n",
       "  </tbody>\n",
       "</table>\n",
       "</div>"
      ],
      "text/plain": [
       "        target        X1        X2         X3        X4         X5  X6  \\\n",
       "0     3.436244  0.210854 -2.451307  51.239996  4.641751 -67.874319   5   \n",
       "1  1525.839412  2.157483  4.337776  43.828794  8.070219 -68.405526   8   \n",
       "2   455.600191  5.166359 -0.452615  43.931305  1.349625 -66.240021   0   \n",
       "3     0.619759  3.276641 -3.607201  50.631046  2.473542 -69.971690   8   \n",
       "4    10.996472 -1.867485 -2.408863  58.660224  2.826219 -53.647149   5   \n",
       "\n",
       "          X7  \n",
       "0  -5.760571  \n",
       "1  10.193773  \n",
       "2  -1.063645  \n",
       "3  -8.476921  \n",
       "4  -5.660827  "
      ]
     },
     "execution_count": 4,
     "metadata": {},
     "output_type": "execute_result"
    }
   ],
   "source": [
    "df_test.head()"
   ]
  },
  {
   "cell_type": "code",
   "execution_count": 5,
   "id": "be2456cb",
   "metadata": {},
   "outputs": [
    {
     "name": "stdout",
     "output_type": "stream",
     "text": [
      "(1042, 8)\n",
      "(261, 8)\n"
     ]
    }
   ],
   "source": [
    "print(df_train.shape)\n",
    "print(df_test.shape)"
   ]
  },
  {
   "cell_type": "markdown",
   "id": "9ba9ae33",
   "metadata": {},
   "source": [
    "Após a importação, visualizamos as 5 primeiras observações de cada uma das bases e utilizamos a propriedade _.shape_ para visualizar o nº de linhas e colunas em cada uma."
   ]
  },
  {
   "cell_type": "code",
   "execution_count": 6,
   "id": "a4447bac",
   "metadata": {},
   "outputs": [
    {
     "name": "stdout",
     "output_type": "stream",
     "text": [
      "<class 'pandas.core.frame.DataFrame'>\n",
      "RangeIndex: 1042 entries, 0 to 1041\n",
      "Data columns (total 8 columns):\n",
      " #   Column  Non-Null Count  Dtype  \n",
      "---  ------  --------------  -----  \n",
      " 0   target  715 non-null    float64\n",
      " 1   X1      1042 non-null   float64\n",
      " 2   X2      1031 non-null   float64\n",
      " 3   X3      1042 non-null   float64\n",
      " 4   X4      1042 non-null   float64\n",
      " 5   X5      1042 non-null   float64\n",
      " 6   X6      1042 non-null   int64  \n",
      " 7   X7      1042 non-null   float64\n",
      "dtypes: float64(7), int64(1)\n",
      "memory usage: 65.2 KB\n"
     ]
    }
   ],
   "source": [
    "df_train.info()"
   ]
  },
  {
   "cell_type": "code",
   "execution_count": 7,
   "id": "ae2302a2",
   "metadata": {},
   "outputs": [
    {
     "name": "stdout",
     "output_type": "stream",
     "text": [
      "<class 'pandas.core.frame.DataFrame'>\n",
      "RangeIndex: 261 entries, 0 to 260\n",
      "Data columns (total 8 columns):\n",
      " #   Column  Non-Null Count  Dtype  \n",
      "---  ------  --------------  -----  \n",
      " 0   target  180 non-null    float64\n",
      " 1   X1      261 non-null    float64\n",
      " 2   X2      261 non-null    float64\n",
      " 3   X3      261 non-null    float64\n",
      " 4   X4      261 non-null    float64\n",
      " 5   X5      261 non-null    float64\n",
      " 6   X6      261 non-null    int64  \n",
      " 7   X7      261 non-null    float64\n",
      "dtypes: float64(7), int64(1)\n",
      "memory usage: 16.4 KB\n"
     ]
    }
   ],
   "source": [
    "df_test.info()"
   ]
  },
  {
   "cell_type": "markdown",
   "id": "9e6a6865",
   "metadata": {},
   "source": [
    "Por fim, inspecionamos os tipos de dados nas bases e constatamos também que há valores nulos."
   ]
  },
  {
   "cell_type": "markdown",
   "id": "950869e9",
   "metadata": {},
   "source": [
    "### 3. Data Cleaning\n",
    "\n",
    "#### 3.1 df_train - outlier reduction"
   ]
  },
  {
   "cell_type": "markdown",
   "id": "fb4a8bf4",
   "metadata": {},
   "source": [
    "Para iniciar o processo de limpeza da base de dados, será gerado um gráfico _boxplot_ para identificar se há outliers:"
   ]
  },
  {
   "cell_type": "code",
   "execution_count": 8,
   "id": "16f467a2",
   "metadata": {},
   "outputs": [
    {
     "data": {
      "image/png": "[encoded data removed]",
      "text/plain": [
       "<Figure size 504x504 with 1 Axes>"
      ]
     },
     "metadata": {
      "needs_background": "light"
     },
     "output_type": "display_data"
    }
   ],
   "source": [
    "fig = plt.figure(figsize=(7,7))\n",
    "sns.boxplot(data=df_train);"
   ]
  },
  {
   "cell_type": "markdown",
   "id": "278e55bb",
   "metadata": {},
   "source": [
    "Como visto acima, todas as variáveis (exceto _X6_) possuem outliers, com isso, prosseguiremos com a visualização da distribuição de cada uma para, a seguir, efetuar a redução desses outliers:"
   ]
  },
  {
   "cell_type": "code",
   "execution_count": 9,
   "id": "d04846c0",
   "metadata": {},
   "outputs": [
    {
     "data": {
      "image/png": "[encoded data removed]",
      "text/plain": [
       "<Figure size 360x360 with 1 Axes>"
      ]
     },
     "metadata": {
      "needs_background": "light"
     },
     "output_type": "display_data"
    }
   ],
   "source": [
    "fig = plt.figure(figsize=(5,5))\n",
    "sns.histplot(x='target', data=df_train, kde=True);"
   ]
  },
  {
   "cell_type": "code",
   "execution_count": 10,
   "id": "7e7be04b",
   "metadata": {},
   "outputs": [
    {
     "data": {
      "image/png": "[encoded data removed]",
      "text/plain": [
       "<Figure size 360x360 with 1 Axes>"
      ]
     },
     "metadata": {
      "needs_background": "light"
     },
     "output_type": "display_data"
    }
   ],
   "source": [
    "fig = plt.figure(figsize=(5,5))\n",
    "sns.histplot(x='X1', data=df_train, kde=True);"
   ]
  },
  {
   "cell_type": "code",
   "execution_count": 11,
   "id": "327b963d",
   "metadata": {},
   "outputs": [
    {
     "data": {
      "image/png": "[encoded data removed]",
      "text/plain": [
       "<Figure size 360x360 with 1 Axes>"
      ]
     },
     "metadata": {
      "needs_background": "light"
     },
     "output_type": "display_data"
    }
   ],
   "source": [
    "fig = plt.figure(figsize=(5,5))\n",
    "sns.histplot(x='X2', data=df_train, kde=True);"
   ]
  },
  {
   "cell_type": "code",
   "execution_count": 12,
   "id": "4827f523",
   "metadata": {},
   "outputs": [
    {
     "data": {
      "image/png": "[encoded data removed]",
      "text/plain": [
       "<Figure size 360x360 with 1 Axes>"
      ]
     },
     "metadata": {
      "needs_background": "light"
     },
     "output_type": "display_data"
    }
   ],
   "source": [
    "fig = plt.figure(figsize=(5,5))\n",
    "sns.histplot(x='X3', data=df_train, kde=True);"
   ]
  },
  {
   "cell_type": "code",
   "execution_count": 13,
   "id": "41006865",
   "metadata": {},
   "outputs": [
    {
     "data": {
      "image/png": "[encoded data removed]",
      "text/plain": [
       "<Figure size 360x360 with 1 Axes>"
      ]
     },
     "metadata": {
      "needs_background": "light"
     },
     "output_type": "display_data"
    }
   ],
   "source": [
    "fig = plt.figure(figsize=(5,5))\n",
    "sns.histplot(x='X4', data=df_train, kde=True);"
   ]
  },
  {
   "cell_type": "code",
   "execution_count": 14,
   "id": "8adb86df",
   "metadata": {},
   "outputs": [
    {
     "data": {
      "image/png": "[encoded data removed]",
      "text/plain": [
       "<Figure size 360x360 with 1 Axes>"
      ]
     },
     "metadata": {
      "needs_background": "light"
     },
     "output_type": "display_data"
    }
   ],
   "source": [
    "fig = plt.figure(figsize=(5,5))\n",
    "sns.histplot(x='X5', data=df_train, kde=True);"
   ]
  },
  {
   "cell_type": "code",
   "execution_count": 15,
   "id": "0be59202",
   "metadata": {},
   "outputs": [
    {
     "data": {
      "image/png": "[encoded data removed]",
      "text/plain": [
       "<Figure size 360x360 with 1 Axes>"
      ]
     },
     "metadata": {
      "needs_background": "light"
     },
     "output_type": "display_data"
    }
   ],
   "source": [
    "fig = plt.figure(figsize=(5,5))\n",
    "sns.histplot(x='X6', data=df_train);"
   ]
  },
  {
   "cell_type": "code",
   "execution_count": 16,
   "id": "8e3603cc",
   "metadata": {
    "scrolled": true
   },
   "outputs": [
    {
     "data": {
      "image/png": "[encoded data removed]",
      "text/plain": [
       "<Figure size 360x360 with 1 Axes>"
      ]
     },
     "metadata": {
      "needs_background": "light"
     },
     "output_type": "display_data"
    }
   ],
   "source": [
    "fig = plt.figure(figsize=(5,5))\n",
    "sns.histplot(x='X7', data=df_train, kde=True);"
   ]
  },
  {
   "cell_type": "markdown",
   "id": "3a7af567",
   "metadata": {},
   "source": [
    "Conforme visto acima, as variáveis _X1_, _X2_, _X3_, _X5_ e _X7_ possuem uma distribuição gaussiana, enquanto as variáveis _target_, _X4_ e _X6_ possuem distribuições assimétricas, com isso, serão utilizadas duas metodologias para a limpeza desses dados: Para as variáveis com a distribuição gaussiana, utilizaremos o desvio padrão e, para as variáveis assimétricas, utilizaremos o _interquartile range_ (IQR):"
   ]
  },
  {
   "cell_type": "code",
   "execution_count": 17,
   "id": "a0dde447",
   "metadata": {},
   "outputs": [],
   "source": [
    "gauss = ['X1', 'X2', 'X3', 'X5', 'X7']\n",
    "\n",
    "for i in gauss:\n",
    "    superior = df_train[i].mean() + 3*df_train[i].std()\n",
    "    inferior = df_train[i].mean() - 3*df_train[i].std()\n",
    "    df_train = df_train[(df_train[i] < superior) & (df_train[i] > inferior)]"
   ]
  },
  {
   "cell_type": "code",
   "execution_count": 18,
   "id": "675af1cc",
   "metadata": {},
   "outputs": [],
   "source": [
    "skewed = ['target', 'X4', 'X6']\n",
    "\n",
    "for i in skewed:\n",
    "    percentil_25 = df_train[i].quantile(0.25)\n",
    "    percentil_75 = df_train[i].quantile(0.75)\n",
    "    superior = percentil_75 + 1.5 * iqr(df_train[i], nan_policy='omit')\n",
    "    inferior = percentil_25 - 1.5 * iqr(df_train[i], nan_policy='omit')\n",
    "    df_train = df_train[(df_train[i] < superior) & (df_train[i] > inferior)]"
   ]
  },
  {
   "cell_type": "code",
   "execution_count": 19,
   "id": "ccae7a14",
   "metadata": {},
   "outputs": [
    {
     "data": {
      "image/png": "[encoded data removed]",
      "text/plain": [
       "<Figure size 504x504 with 1 Axes>"
      ]
     },
     "metadata": {
      "needs_background": "light"
     },
     "output_type": "display_data"
    }
   ],
   "source": [
    "fig = plt.figure(figsize=(7,7))\n",
    "sns.boxplot(data=df_train);"
   ]
  },
  {
   "cell_type": "markdown",
   "id": "d3b57a48",
   "metadata": {},
   "source": [
    "Conforme exibido pelo _boxplot_ acima, podemos ver que o número total de outliers foi reduzido."
   ]
  },
  {
   "cell_type": "markdown",
   "id": "49c8d1f8",
   "metadata": {},
   "source": [
    "#### 3.2 df_train - NaN treatment"
   ]
  },
  {
   "cell_type": "markdown",
   "id": "7d1dcfea",
   "metadata": {},
   "source": [
    "Com a redução dos outliers, o próximo passo para a limpeza de dados é o tratamento dos valores nulos (NaN) e, similar ao tratamento anterior, utilizaremos duas formas de tratamento, para as variáveis gaussianas, os valores nulos serão substituidos pela média da variável e, para as variáveis assimétricas, os valores nulos serão substituidos pela mediana:"
   ]
  },
  {
   "cell_type": "code",
   "execution_count": 20,
   "id": "228dd083",
   "metadata": {},
   "outputs": [],
   "source": [
    "for i in gauss:\n",
    "    df_train[i] = df_train[i].fillna(df_train[i].mean())"
   ]
  },
  {
   "cell_type": "code",
   "execution_count": 21,
   "id": "fc259982",
   "metadata": {},
   "outputs": [],
   "source": [
    "for i in skewed:\n",
    "    df_train[i] = df_train[i].fillna(df_train[i].median())"
   ]
  },
  {
   "cell_type": "code",
   "execution_count": 22,
   "id": "dff02a2f",
   "metadata": {},
   "outputs": [
    {
     "name": "stdout",
     "output_type": "stream",
     "text": [
      "<class 'pandas.core.frame.DataFrame'>\n",
      "Int64Index: 617 entries, 1 to 1041\n",
      "Data columns (total 8 columns):\n",
      " #   Column  Non-Null Count  Dtype  \n",
      "---  ------  --------------  -----  \n",
      " 0   target  617 non-null    float64\n",
      " 1   X1      617 non-null    float64\n",
      " 2   X2      617 non-null    float64\n",
      " 3   X3      617 non-null    float64\n",
      " 4   X4      617 non-null    float64\n",
      " 5   X5      617 non-null    float64\n",
      " 6   X6      617 non-null    int64  \n",
      " 7   X7      617 non-null    float64\n",
      "dtypes: float64(7), int64(1)\n",
      "memory usage: 43.4 KB\n"
     ]
    }
   ],
   "source": [
    "df_train.info()"
   ]
  },
  {
   "cell_type": "markdown",
   "id": "2c612779",
   "metadata": {},
   "source": [
    "#### 3.3 df_test - NaN treatment"
   ]
  },
  {
   "cell_type": "markdown",
   "id": "3b583051",
   "metadata": {},
   "source": [
    "O tratamento também é feito na base de dados _df_test_, onde os valores nulos da variável _target_ também são substituidos pela mediana."
   ]
  },
  {
   "cell_type": "code",
   "execution_count": 23,
   "id": "c926e0c9",
   "metadata": {},
   "outputs": [],
   "source": [
    "df_test['target'] = df_test['target'].fillna(df_test['target'].median())"
   ]
  },
  {
   "cell_type": "code",
   "execution_count": 24,
   "id": "dc74ae19",
   "metadata": {},
   "outputs": [
    {
     "name": "stdout",
     "output_type": "stream",
     "text": [
      "<class 'pandas.core.frame.DataFrame'>\n",
      "RangeIndex: 261 entries, 0 to 260\n",
      "Data columns (total 8 columns):\n",
      " #   Column  Non-Null Count  Dtype  \n",
      "---  ------  --------------  -----  \n",
      " 0   target  261 non-null    float64\n",
      " 1   X1      261 non-null    float64\n",
      " 2   X2      261 non-null    float64\n",
      " 3   X3      261 non-null    float64\n",
      " 4   X4      261 non-null    float64\n",
      " 5   X5      261 non-null    float64\n",
      " 6   X6      261 non-null    int64  \n",
      " 7   X7      261 non-null    float64\n",
      "dtypes: float64(7), int64(1)\n",
      "memory usage: 16.4 KB\n"
     ]
    }
   ],
   "source": [
    "df_test.info()"
   ]
  },
  {
   "cell_type": "markdown",
   "id": "6e84ca9d",
   "metadata": {},
   "source": [
    "### 4. Modelagem"
   ]
  },
  {
   "cell_type": "markdown",
   "id": "b92e4077",
   "metadata": {},
   "source": [
    "Após a preparação dos dados, seguiremos para a criação dos modelos, sendo eles a Regressão Linear, Àrvore de Decisão, _Random Forest_, _Support Vector Machine_ e _XGBoost_. Para iniciar a modelagem, as bases de treino e teste (_df_train_ e _df_test_) serão separadas entre variáveis dependentes (_y train_ e _y test_) e independentes (_X train_ e _X test_): "
   ]
  },
  {
   "cell_type": "code",
   "execution_count": 25,
   "id": "4edac174",
   "metadata": {},
   "outputs": [],
   "source": [
    "X_train = df_train.iloc[:,1:].values\n",
    "y_train = df_train.iloc[:,0].values"
   ]
  },
  {
   "cell_type": "code",
   "execution_count": 26,
   "id": "89d9f2e8",
   "metadata": {},
   "outputs": [],
   "source": [
    "X_test = df_test.iloc[:,1:].values\n",
    "y_test = df_test.iloc[:,0].values"
   ]
  },
  {
   "cell_type": "markdown",
   "id": "3da4bfac",
   "metadata": {},
   "source": [
    "##### Regressão Linear"
   ]
  },
  {
   "cell_type": "code",
   "execution_count": 27,
   "id": "d3d7c811",
   "metadata": {},
   "outputs": [],
   "source": [
    "reg_lin = LinearRegression()\n",
    "reg_lin.fit(X_train, y_train)\n",
    "p_reg_lin = reg_lin.predict(X_test)\n",
    "reg_lin_r2 = r2_score(y_test, p_reg_lin)\n",
    "RMSE_reg_lin = sqrt(mean_squared_error(y_test, p_reg_lin))\n",
    "cor_reg_lin = pearsonr(y_test, p_reg_lin)"
   ]
  },
  {
   "cell_type": "markdown",
   "id": "44fbf5eb",
   "metadata": {},
   "source": [
    "##### Àrvore de decisão"
   ]
  },
  {
   "cell_type": "code",
   "execution_count": 28,
   "id": "0567d186",
   "metadata": {},
   "outputs": [],
   "source": [
    "dec_tree = DecisionTreeRegressor(random_state=42)\n",
    "dec_tree.fit(X_train, y_train)\n",
    "p_dec_tree = dec_tree.predict(X_test)\n",
    "dec_tree_r2 = r2_score(y_test, p_dec_tree)\n",
    "RMSE_dec_tree = sqrt(mean_squared_error(y_test, p_dec_tree))\n",
    "cor_dec_tree = pearsonr(y_test, p_dec_tree)"
   ]
  },
  {
   "cell_type": "markdown",
   "id": "58ac0133",
   "metadata": {},
   "source": [
    "##### Random Forest"
   ]
  },
  {
   "cell_type": "code",
   "execution_count": 29,
   "id": "9bc579a2",
   "metadata": {},
   "outputs": [],
   "source": [
    "r_forest = RandomForestRegressor(random_state=42)\n",
    "r_forest.fit(X_train, y_train)\n",
    "p_r_forest = r_forest.predict(X_test)\n",
    "r_forest_r2 = r2_score(y_test, p_r_forest)\n",
    "RMSE_r_forest = sqrt(mean_squared_error(y_test, p_r_forest))\n",
    "cor_r_forest = pearsonr(y_test, p_r_forest)"
   ]
  },
  {
   "cell_type": "markdown",
   "id": "a78cf5d4",
   "metadata": {},
   "source": [
    "##### Support Vector Machine"
   ]
  },
  {
   "cell_type": "code",
   "execution_count": 30,
   "id": "492a8116",
   "metadata": {},
   "outputs": [],
   "source": [
    "svm = SVR()\n",
    "svm.fit(X_train, y_train)\n",
    "p_svm = svm.predict(X_test)\n",
    "svm_r2 = r2_score(y_test, p_svm)\n",
    "RMSE_svm = sqrt(mean_squared_error(y_test, p_svm))\n",
    "cor_svm = pearsonr(y_test, p_svm)"
   ]
  },
  {
   "cell_type": "markdown",
   "id": "7dfadb81",
   "metadata": {},
   "source": [
    "##### XGBoost"
   ]
  },
  {
   "cell_type": "code",
   "execution_count": 31,
   "id": "8e794710",
   "metadata": {},
   "outputs": [],
   "source": [
    "xgb = XGBRegressor(random_state=42)\n",
    "xgb.fit(X_train, y_train)\n",
    "p_xgb = xgb.predict(X_test)\n",
    "xgb_r2 = r2_score(y_test, p_xgb)\n",
    "RMSE_xgb = sqrt(mean_squared_error(y_test, p_xgb))\n",
    "cor_xgb = pearsonr(y_test, p_xgb)"
   ]
  },
  {
   "cell_type": "markdown",
   "id": "c19292a6",
   "metadata": {},
   "source": [
    "#### Resultados"
   ]
  },
  {
   "cell_type": "markdown",
   "id": "80b0e427",
   "metadata": {},
   "source": [
    "##### R2"
   ]
  },
  {
   "cell_type": "code",
   "execution_count": 32,
   "id": "22a5a9e4",
   "metadata": {},
   "outputs": [
    {
     "name": "stdout",
     "output_type": "stream",
     "text": [
      "Coeficientes de determinação (R²)\n",
      "Regressão Linear: -0.72\n",
      "Àrvore de Decisão: 0.76\n",
      "Random Forest: 0.77\n",
      "Support Vector Machine: -0.03\n",
      "XGBoost: 0.78\n"
     ]
    }
   ],
   "source": [
    "print('Coeficientes de determinação (R²)' + '\\n' +\n",
    "      'Regressão Linear: ' + str(round(reg_lin_r2, 2)) + '\\n' +\n",
    "      'Àrvore de Decisão: ' + str(round(dec_tree_r2, 2)) + '\\n' +\n",
    "      'Random Forest: ' + str(round(r_forest_r2, 2)) + '\\n' +\n",
    "      'Support Vector Machine: ' + str(round(svm_r2, 2)) + '\\n' +\n",
    "      'XGBoost: ' + str(round(xgb_r2, 2))\n",
    "     )"
   ]
  },
  {
   "cell_type": "markdown",
   "id": "86836c43",
   "metadata": {},
   "source": [
    "##### RMSE"
   ]
  },
  {
   "cell_type": "code",
   "execution_count": 33,
   "id": "26c386c6",
   "metadata": {},
   "outputs": [
    {
     "name": "stdout",
     "output_type": "stream",
     "text": [
      "Root Mean Squared Error (RMSE)\n",
      "Regressão Linear: 1402.03\n",
      "Àrvore de Decisão: 523.21\n",
      "Random Forest: 509.6\n",
      "Support Vector Machine: 1085.04\n",
      "XGBoost: 502.33\n"
     ]
    }
   ],
   "source": [
    "print('Root Mean Squared Error (RMSE)' + '\\n' +\n",
    "      'Regressão Linear: ' + str(round(RMSE_reg_lin, 2)) + '\\n' +\n",
    "      'Àrvore de Decisão: ' + str(round(RMSE_dec_tree, 2)) + '\\n' +\n",
    "      'Random Forest: ' + str(round(RMSE_r_forest, 2)) + '\\n' +\n",
    "      'Support Vector Machine: ' + str(round(RMSE_svm, 2)) + '\\n' +\n",
    "      'XGBoost: ' + str(round(RMSE_xgb, 2))\n",
    "     )"
   ]
  },
  {
   "cell_type": "markdown",
   "id": "64fb213c",
   "metadata": {},
   "source": [
    "##### Correlação"
   ]
  },
  {
   "cell_type": "code",
   "execution_count": 34,
   "id": "83cd409f",
   "metadata": {},
   "outputs": [
    {
     "name": "stdout",
     "output_type": "stream",
     "text": [
      "Correlação de Pearson\n",
      "Regressão Linear: 0.65\n",
      "Àrvore de Decisão: 0.89\n",
      "Random Forest: 0.89\n",
      "Support Vector Machine: 0.68\n",
      "XGBoost: 0.9\n"
     ]
    }
   ],
   "source": [
    "print('Correlação de Pearson' + '\\n' +\n",
    "      'Regressão Linear: ' + str(round(cor_reg_lin[0], 2)) + '\\n' +\n",
    "      'Àrvore de Decisão: ' + str(round(cor_dec_tree[0], 2)) + '\\n' +\n",
    "      'Random Forest: ' + str(round(cor_r_forest[0], 2)) + '\\n' +\n",
    "      'Support Vector Machine: ' + str(round(cor_svm[0], 2)) + '\\n' +\n",
    "      'XGBoost: ' + str(round(cor_xgb[0], 2))\n",
    "     )"
   ]
  },
  {
   "cell_type": "markdown",
   "id": "8d697488",
   "metadata": {},
   "source": [
    "Dados os resultados apresentados acima, o modelo _XGBoost_ apresentou o melhor desempenho, pois exibiu o maior coeficiente de determinação, a melhor correlação entre os valores observados e preditos e a menor raíz do erro quadrático médio."
   ]
  },
  {
   "cell_type": "code",
   "execution_count": 35,
   "id": "c1a53641",
   "metadata": {},
   "outputs": [
    {
     "name": "stdout",
     "output_type": "stream",
     "text": [
      "X2 0.96748906\n",
      "X1 0.02281791\n",
      "X3 0.004415533\n",
      "X4 0.002983157\n",
      "X5 0.0019571676\n",
      "X6 0.00033716965\n",
      "X7 0.0\n"
     ]
    }
   ],
   "source": [
    "for importance, name in sorted(zip(xgb.feature_importances_, df_train.columns[1:]),reverse=True):\n",
    "    print(name, importance)"
   ]
  },
  {
   "cell_type": "markdown",
   "id": "3a2969b5",
   "metadata": {},
   "source": [
    "Dado que o modelo _XGBoost_ apresentou o melhor resultado, analisamos o impacto de data _feature_ em seu resultado e, podemos constatar que o resultado é majoritariamente impactado pela variável _X2_, com impactos menores pelas variáveis _X1_, _X3_, _X4_, _X5_ e _X6_ e uma ausência de impacto pela variável _X7_."
   ]
  }
 ],
 "metadata": {
  "kernelspec": {
   "display_name": "Python 3 (ipykernel)",
   "language": "python",
   "name": "python3"
  },
  "language_info": {
   "codemirror_mode": {
    "name": "ipython",
    "version": 3
   },
   "file_extension": ".py",
   "mimetype": "text/x-python",
   "name": "python",
   "nbconvert_exporter": "python",
   "pygments_lexer": "ipython3",
   "version": "3.9.12"
  }
 },
 "nbformat": 4,
 "nbformat_minor": 5
}
