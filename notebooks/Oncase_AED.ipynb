{
 "cells": [
  {
   "cell_type": "markdown",
   "id": "20b80fe8",
   "metadata": {},
   "source": [
    "### 1. Pacotes"
   ]
  },
  {
   "cell_type": "markdown",
   "id": "6353c3a3",
   "metadata": {},
   "source": [
    "Iniciando o projeto de análise exploratória de dados, carregaremos os pacotes necessários:"
   ]
  },
  {
   "cell_type": "code",
   "execution_count": 1,
   "id": "8d707156",
   "metadata": {},
   "outputs": [],
   "source": [
    "# Carregando os pacotes necessários\n",
    "\n",
    "import pandas as pd\n",
    "import numpy as np\n",
    "import seaborn as sns\n",
    "import matplotlib.pyplot as plt"
   ]
  },
  {
   "cell_type": "markdown",
   "id": "9124f7c9",
   "metadata": {},
   "source": [
    "### 2. Base de dados"
   ]
  },
  {
   "cell_type": "markdown",
   "id": "239be271",
   "metadata": {},
   "source": [
    "Prosseguindo, carregaremos a base de dados _receitas.json_ e buscaremos entender as informações contidas na mesma."
   ]
  },
  {
   "cell_type": "code",
   "execution_count": 2,
   "id": "a0b24e90",
   "metadata": {},
   "outputs": [
    {
     "name": "stdout",
     "output_type": "stream",
     "text": [
      "(20130, 11)\n"
     ]
    },
    {
     "data": {
      "text/html": [
       "<div>\n",
       "<style scoped>\n",
       "    .dataframe tbody tr th:only-of-type {\n",
       "        vertical-align: middle;\n",
       "    }\n",
       "\n",
       "    .dataframe tbody tr th {\n",
       "        vertical-align: top;\n",
       "    }\n",
       "\n",
       "    .dataframe thead th {\n",
       "        text-align: right;\n",
       "    }\n",
       "</style>\n",
       "<table border=\"1\" class=\"dataframe\">\n",
       "  <thead>\n",
       "    <tr style=\"text-align: right;\">\n",
       "      <th></th>\n",
       "      <th>directions</th>\n",
       "      <th>fat</th>\n",
       "      <th>date</th>\n",
       "      <th>categories</th>\n",
       "      <th>calories</th>\n",
       "      <th>desc</th>\n",
       "      <th>protein</th>\n",
       "      <th>rating</th>\n",
       "      <th>title</th>\n",
       "      <th>ingredients</th>\n",
       "      <th>sodium</th>\n",
       "    </tr>\n",
       "  </thead>\n",
       "  <tbody>\n",
       "    <tr>\n",
       "      <th>0</th>\n",
       "      <td>[1. Place the stock, lentils, celery, carrot, ...</td>\n",
       "      <td>7.0</td>\n",
       "      <td>2006-09-01 04:00:00+00:00</td>\n",
       "      <td>[Sandwich, Bean, Fruit, Tomato, turkey, Vegeta...</td>\n",
       "      <td>426.0</td>\n",
       "      <td>None</td>\n",
       "      <td>30.0</td>\n",
       "      <td>2.500</td>\n",
       "      <td>Lentil, Apple, and Turkey Wrap</td>\n",
       "      <td>[4 cups low-sodium vegetable or chicken stock,...</td>\n",
       "      <td>559.0</td>\n",
       "    </tr>\n",
       "    <tr>\n",
       "      <th>1</th>\n",
       "      <td>[Combine first 9 ingredients in heavy medium s...</td>\n",
       "      <td>23.0</td>\n",
       "      <td>2004-08-20 04:00:00+00:00</td>\n",
       "      <td>[Food Processor, Onion, Pork, Bake, Bastille D...</td>\n",
       "      <td>403.0</td>\n",
       "      <td>This uses the same ingredients found in boudin...</td>\n",
       "      <td>18.0</td>\n",
       "      <td>4.375</td>\n",
       "      <td>Boudin Blanc Terrine with Red Onion Confit</td>\n",
       "      <td>[1 1/2 cups whipping cream, 2 medium onions, c...</td>\n",
       "      <td>1439.0</td>\n",
       "    </tr>\n",
       "    <tr>\n",
       "      <th>2</th>\n",
       "      <td>[In a large heavy saucepan cook diced fennel a...</td>\n",
       "      <td>7.0</td>\n",
       "      <td>2004-08-20 04:00:00+00:00</td>\n",
       "      <td>[Soup/Stew, Dairy, Potato, Vegetable, Fennel, ...</td>\n",
       "      <td>165.0</td>\n",
       "      <td>None</td>\n",
       "      <td>6.0</td>\n",
       "      <td>3.750</td>\n",
       "      <td>Potato and Fennel Soup Hodge</td>\n",
       "      <td>[1 fennel bulb (sometimes called anise), stalk...</td>\n",
       "      <td>165.0</td>\n",
       "    </tr>\n",
       "    <tr>\n",
       "      <th>3</th>\n",
       "      <td>[Heat oil in heavy large skillet over medium-h...</td>\n",
       "      <td>NaN</td>\n",
       "      <td>2009-03-27 04:00:00+00:00</td>\n",
       "      <td>[Fish, Olive, Tomato, Sauté, Low Fat, Low Cal,...</td>\n",
       "      <td>NaN</td>\n",
       "      <td>The Sicilian-style tomato sauce has tons of Me...</td>\n",
       "      <td>NaN</td>\n",
       "      <td>5.000</td>\n",
       "      <td>Mahi-Mahi in Tomato Olive Sauce</td>\n",
       "      <td>[2 tablespoons extra-virgin olive oil, 1 cup c...</td>\n",
       "      <td>NaN</td>\n",
       "    </tr>\n",
       "    <tr>\n",
       "      <th>4</th>\n",
       "      <td>[Preheat oven to 350°F. Lightly grease 8x8x2-i...</td>\n",
       "      <td>32.0</td>\n",
       "      <td>2004-08-20 04:00:00+00:00</td>\n",
       "      <td>[Cheese, Dairy, Pasta, Vegetable, Side, Bake, ...</td>\n",
       "      <td>547.0</td>\n",
       "      <td>None</td>\n",
       "      <td>20.0</td>\n",
       "      <td>3.125</td>\n",
       "      <td>Spinach Noodle Casserole</td>\n",
       "      <td>[1 12-ounce package frozen spinach soufflé, th...</td>\n",
       "      <td>452.0</td>\n",
       "    </tr>\n",
       "  </tbody>\n",
       "</table>\n",
       "</div>"
      ],
      "text/plain": [
       "                                          directions   fat  \\\n",
       "0  [1. Place the stock, lentils, celery, carrot, ...   7.0   \n",
       "1  [Combine first 9 ingredients in heavy medium s...  23.0   \n",
       "2  [In a large heavy saucepan cook diced fennel a...   7.0   \n",
       "3  [Heat oil in heavy large skillet over medium-h...   NaN   \n",
       "4  [Preheat oven to 350°F. Lightly grease 8x8x2-i...  32.0   \n",
       "\n",
       "                       date  \\\n",
       "0 2006-09-01 04:00:00+00:00   \n",
       "1 2004-08-20 04:00:00+00:00   \n",
       "2 2004-08-20 04:00:00+00:00   \n",
       "3 2009-03-27 04:00:00+00:00   \n",
       "4 2004-08-20 04:00:00+00:00   \n",
       "\n",
       "                                          categories  calories  \\\n",
       "0  [Sandwich, Bean, Fruit, Tomato, turkey, Vegeta...     426.0   \n",
       "1  [Food Processor, Onion, Pork, Bake, Bastille D...     403.0   \n",
       "2  [Soup/Stew, Dairy, Potato, Vegetable, Fennel, ...     165.0   \n",
       "3  [Fish, Olive, Tomato, Sauté, Low Fat, Low Cal,...       NaN   \n",
       "4  [Cheese, Dairy, Pasta, Vegetable, Side, Bake, ...     547.0   \n",
       "\n",
       "                                                desc  protein  rating  \\\n",
       "0                                               None     30.0   2.500   \n",
       "1  This uses the same ingredients found in boudin...     18.0   4.375   \n",
       "2                                               None      6.0   3.750   \n",
       "3  The Sicilian-style tomato sauce has tons of Me...      NaN   5.000   \n",
       "4                                               None     20.0   3.125   \n",
       "\n",
       "                                         title  \\\n",
       "0              Lentil, Apple, and Turkey Wrap    \n",
       "1  Boudin Blanc Terrine with Red Onion Confit    \n",
       "2                Potato and Fennel Soup Hodge    \n",
       "3             Mahi-Mahi in Tomato Olive Sauce    \n",
       "4                    Spinach Noodle Casserole    \n",
       "\n",
       "                                         ingredients  sodium  \n",
       "0  [4 cups low-sodium vegetable or chicken stock,...   559.0  \n",
       "1  [1 1/2 cups whipping cream, 2 medium onions, c...  1439.0  \n",
       "2  [1 fennel bulb (sometimes called anise), stalk...   165.0  \n",
       "3  [2 tablespoons extra-virgin olive oil, 1 cup c...     NaN  \n",
       "4  [1 12-ounce package frozen spinach soufflé, th...   452.0  "
      ]
     },
     "execution_count": 2,
     "metadata": {},
     "output_type": "execute_result"
    }
   ],
   "source": [
    "# Importando a base de dados\n",
    "\n",
    "data = pd.read_json('receitas.json')\n",
    "print(data.shape)\n",
    "data.head()"
   ]
  },
  {
   "cell_type": "markdown",
   "id": "072cc3c3",
   "metadata": {},
   "source": [
    "Como exibido, a base de dados é composta por 11 colunas e 20.130 linhas, cada uma com informações a cerca de uma receita, como calorias, proteina, e ingredientes. Como exibido, existem valores NaN, a seguir poderemos ver quantos valores nulos existem em cada coluna, junto com o seu tipo de dado:"
   ]
  },
  {
   "cell_type": "code",
   "execution_count": 3,
   "id": "58bb2e37",
   "metadata": {
    "scrolled": true
   },
   "outputs": [
    {
     "name": "stdout",
     "output_type": "stream",
     "text": [
      "<class 'pandas.core.frame.DataFrame'>\n",
      "RangeIndex: 20130 entries, 0 to 20129\n",
      "Data columns (total 11 columns):\n",
      " #   Column       Non-Null Count  Dtype              \n",
      "---  ------       --------------  -----              \n",
      " 0   directions   20111 non-null  object             \n",
      " 1   fat          15908 non-null  float64            \n",
      " 2   date         20111 non-null  datetime64[ns, UTC]\n",
      " 3   categories   20111 non-null  object             \n",
      " 4   calories     15976 non-null  float64            \n",
      " 5   desc         13495 non-null  object             \n",
      " 6   protein      15929 non-null  float64            \n",
      " 7   rating       20100 non-null  float64            \n",
      " 8   title        20111 non-null  object             \n",
      " 9   ingredients  20111 non-null  object             \n",
      " 10  sodium       15974 non-null  float64            \n",
      "dtypes: datetime64[ns, UTC](1), float64(5), object(5)\n",
      "memory usage: 1.7+ MB\n"
     ]
    }
   ],
   "source": [
    "data.info()"
   ]
  },
  {
   "cell_type": "markdown",
   "id": "3e395e94",
   "metadata": {},
   "source": [
    "Como não é explicitado, verificaremos se as colunas _fat_, _calories_, _protein_ e _sodium_ correspondem à valores percentuais (%). Também analisaremos a coluna _rating_ e para isso, verificaremos indicadores estatísticos de cada coluna numérica."
   ]
  },
  {
   "cell_type": "code",
   "execution_count": 4,
   "id": "6615671a",
   "metadata": {},
   "outputs": [
    {
     "data": {
      "text/html": [
       "<div>\n",
       "<style scoped>\n",
       "    .dataframe tbody tr th:only-of-type {\n",
       "        vertical-align: middle;\n",
       "    }\n",
       "\n",
       "    .dataframe tbody tr th {\n",
       "        vertical-align: top;\n",
       "    }\n",
       "\n",
       "    .dataframe thead th {\n",
       "        text-align: right;\n",
       "    }\n",
       "</style>\n",
       "<table border=\"1\" class=\"dataframe\">\n",
       "  <thead>\n",
       "    <tr style=\"text-align: right;\">\n",
       "      <th></th>\n",
       "      <th>fat</th>\n",
       "      <th>calories</th>\n",
       "      <th>protein</th>\n",
       "      <th>rating</th>\n",
       "      <th>sodium</th>\n",
       "    </tr>\n",
       "  </thead>\n",
       "  <tbody>\n",
       "    <tr>\n",
       "      <th>count</th>\n",
       "      <td>1.590800e+04</td>\n",
       "      <td>1.597600e+04</td>\n",
       "      <td>15929.000000</td>\n",
       "      <td>20100.000000</td>\n",
       "      <td>1.597400e+04</td>\n",
       "    </tr>\n",
       "    <tr>\n",
       "      <th>mean</th>\n",
       "      <td>3.460975e+02</td>\n",
       "      <td>6.307857e+03</td>\n",
       "      <td>99.946199</td>\n",
       "      <td>3.713060</td>\n",
       "      <td>6.211474e+03</td>\n",
       "    </tr>\n",
       "    <tr>\n",
       "      <th>std</th>\n",
       "      <td>2.043102e+04</td>\n",
       "      <td>3.585851e+05</td>\n",
       "      <td>3835.616663</td>\n",
       "      <td>1.343144</td>\n",
       "      <td>3.328903e+05</td>\n",
       "    </tr>\n",
       "    <tr>\n",
       "      <th>min</th>\n",
       "      <td>0.000000e+00</td>\n",
       "      <td>0.000000e+00</td>\n",
       "      <td>0.000000</td>\n",
       "      <td>0.000000</td>\n",
       "      <td>0.000000e+00</td>\n",
       "    </tr>\n",
       "    <tr>\n",
       "      <th>25%</th>\n",
       "      <td>7.000000e+00</td>\n",
       "      <td>1.980000e+02</td>\n",
       "      <td>3.000000</td>\n",
       "      <td>3.750000</td>\n",
       "      <td>8.000000e+01</td>\n",
       "    </tr>\n",
       "    <tr>\n",
       "      <th>50%</th>\n",
       "      <td>1.700000e+01</td>\n",
       "      <td>3.310000e+02</td>\n",
       "      <td>8.000000</td>\n",
       "      <td>4.375000</td>\n",
       "      <td>2.940000e+02</td>\n",
       "    </tr>\n",
       "    <tr>\n",
       "      <th>75%</th>\n",
       "      <td>3.300000e+01</td>\n",
       "      <td>5.860000e+02</td>\n",
       "      <td>27.000000</td>\n",
       "      <td>4.375000</td>\n",
       "      <td>7.110000e+02</td>\n",
       "    </tr>\n",
       "    <tr>\n",
       "      <th>max</th>\n",
       "      <td>1.722763e+06</td>\n",
       "      <td>3.011122e+07</td>\n",
       "      <td>236489.000000</td>\n",
       "      <td>5.000000</td>\n",
       "      <td>2.767511e+07</td>\n",
       "    </tr>\n",
       "  </tbody>\n",
       "</table>\n",
       "</div>"
      ],
      "text/plain": [
       "                fat      calories        protein        rating        sodium\n",
       "count  1.590800e+04  1.597600e+04   15929.000000  20100.000000  1.597400e+04\n",
       "mean   3.460975e+02  6.307857e+03      99.946199      3.713060  6.211474e+03\n",
       "std    2.043102e+04  3.585851e+05    3835.616663      1.343144  3.328903e+05\n",
       "min    0.000000e+00  0.000000e+00       0.000000      0.000000  0.000000e+00\n",
       "25%    7.000000e+00  1.980000e+02       3.000000      3.750000  8.000000e+01\n",
       "50%    1.700000e+01  3.310000e+02       8.000000      4.375000  2.940000e+02\n",
       "75%    3.300000e+01  5.860000e+02      27.000000      4.375000  7.110000e+02\n",
       "max    1.722763e+06  3.011122e+07  236489.000000      5.000000  2.767511e+07"
      ]
     },
     "execution_count": 4,
     "metadata": {},
     "output_type": "execute_result"
    }
   ],
   "source": [
    "data.describe()"
   ]
  },
  {
   "cell_type": "markdown",
   "id": "9d469229",
   "metadata": {},
   "source": [
    "Dado que os valores máximos de _fat_, _calories_, _proteing_ e _sodium_ possuem um valor máximo acima de 100, podemos concluir que as colunas não se tratam de valores percentuais. Podemos verificar também que a coluna _rating_ possui um valor mínimo de 0 e um valor máximo de 5. Após entender o conteúdo das colunas numéricas, voltaremos a atenção para a análise dos valores NaN."
   ]
  },
  {
   "cell_type": "code",
   "execution_count": 5,
   "id": "e1d3f737",
   "metadata": {
    "scrolled": true
   },
   "outputs": [
    {
     "data": {
      "text/plain": [
       "directions     True\n",
       "fat            True\n",
       "date           True\n",
       "categories     True\n",
       "calories       True\n",
       "desc           True\n",
       "protein        True\n",
       "rating         True\n",
       "title          True\n",
       "ingredients    True\n",
       "sodium         True\n",
       "dtype: bool"
      ]
     },
     "execution_count": 5,
     "metadata": {},
     "output_type": "execute_result"
    }
   ],
   "source": [
    "data.isna().any()"
   ]
  },
  {
   "cell_type": "code",
   "execution_count": 6,
   "id": "844de4a0",
   "metadata": {},
   "outputs": [
    {
     "data": {
      "text/html": [
       "<div>\n",
       "<style scoped>\n",
       "    .dataframe tbody tr th:only-of-type {\n",
       "        vertical-align: middle;\n",
       "    }\n",
       "\n",
       "    .dataframe tbody tr th {\n",
       "        vertical-align: top;\n",
       "    }\n",
       "\n",
       "    .dataframe thead th {\n",
       "        text-align: right;\n",
       "    }\n",
       "</style>\n",
       "<table border=\"1\" class=\"dataframe\">\n",
       "  <thead>\n",
       "    <tr style=\"text-align: right;\">\n",
       "      <th></th>\n",
       "      <th>directions</th>\n",
       "      <th>fat</th>\n",
       "      <th>date</th>\n",
       "      <th>categories</th>\n",
       "      <th>calories</th>\n",
       "      <th>desc</th>\n",
       "      <th>protein</th>\n",
       "      <th>rating</th>\n",
       "      <th>title</th>\n",
       "      <th>ingredients</th>\n",
       "      <th>sodium</th>\n",
       "    </tr>\n",
       "  </thead>\n",
       "  <tbody>\n",
       "    <tr>\n",
       "      <th>0</th>\n",
       "      <td>[1. Place the stock, lentils, celery, carrot, ...</td>\n",
       "      <td>7.0</td>\n",
       "      <td>2006-09-01 04:00:00+00:00</td>\n",
       "      <td>[Sandwich, Bean, Fruit, Tomato, turkey, Vegeta...</td>\n",
       "      <td>426.0</td>\n",
       "      <td>None</td>\n",
       "      <td>30.0</td>\n",
       "      <td>2.500</td>\n",
       "      <td>Lentil, Apple, and Turkey Wrap</td>\n",
       "      <td>[4 cups low-sodium vegetable or chicken stock,...</td>\n",
       "      <td>559.0</td>\n",
       "    </tr>\n",
       "    <tr>\n",
       "      <th>2</th>\n",
       "      <td>[In a large heavy saucepan cook diced fennel a...</td>\n",
       "      <td>7.0</td>\n",
       "      <td>2004-08-20 04:00:00+00:00</td>\n",
       "      <td>[Soup/Stew, Dairy, Potato, Vegetable, Fennel, ...</td>\n",
       "      <td>165.0</td>\n",
       "      <td>None</td>\n",
       "      <td>6.0</td>\n",
       "      <td>3.750</td>\n",
       "      <td>Potato and Fennel Soup Hodge</td>\n",
       "      <td>[1 fennel bulb (sometimes called anise), stalk...</td>\n",
       "      <td>165.0</td>\n",
       "    </tr>\n",
       "    <tr>\n",
       "      <th>3</th>\n",
       "      <td>[Heat oil in heavy large skillet over medium-h...</td>\n",
       "      <td>NaN</td>\n",
       "      <td>2009-03-27 04:00:00+00:00</td>\n",
       "      <td>[Fish, Olive, Tomato, Sauté, Low Fat, Low Cal,...</td>\n",
       "      <td>NaN</td>\n",
       "      <td>The Sicilian-style tomato sauce has tons of Me...</td>\n",
       "      <td>NaN</td>\n",
       "      <td>5.000</td>\n",
       "      <td>Mahi-Mahi in Tomato Olive Sauce</td>\n",
       "      <td>[2 tablespoons extra-virgin olive oil, 1 cup c...</td>\n",
       "      <td>NaN</td>\n",
       "    </tr>\n",
       "    <tr>\n",
       "      <th>4</th>\n",
       "      <td>[Preheat oven to 350°F. Lightly grease 8x8x2-i...</td>\n",
       "      <td>32.0</td>\n",
       "      <td>2004-08-20 04:00:00+00:00</td>\n",
       "      <td>[Cheese, Dairy, Pasta, Vegetable, Side, Bake, ...</td>\n",
       "      <td>547.0</td>\n",
       "      <td>None</td>\n",
       "      <td>20.0</td>\n",
       "      <td>3.125</td>\n",
       "      <td>Spinach Noodle Casserole</td>\n",
       "      <td>[1 12-ounce package frozen spinach soufflé, th...</td>\n",
       "      <td>452.0</td>\n",
       "    </tr>\n",
       "    <tr>\n",
       "      <th>6</th>\n",
       "      <td>[Cook potatoes and carrots in large pot of boi...</td>\n",
       "      <td>NaN</td>\n",
       "      <td>2004-08-20 04:00:00+00:00</td>\n",
       "      <td>[Salad, Potato, Side, Easter, Low Fat, Quick &amp;...</td>\n",
       "      <td>NaN</td>\n",
       "      <td>Serve this newfangled main-course salad with a...</td>\n",
       "      <td>NaN</td>\n",
       "      <td>4.375</td>\n",
       "      <td>Ham and Spring Vegetable Salad with Shallot Vi...</td>\n",
       "      <td>[1 1/2 pounds small red-skinned potatoes, each...</td>\n",
       "      <td>NaN</td>\n",
       "    </tr>\n",
       "    <tr>\n",
       "      <th>...</th>\n",
       "      <td>...</td>\n",
       "      <td>...</td>\n",
       "      <td>...</td>\n",
       "      <td>...</td>\n",
       "      <td>...</td>\n",
       "      <td>...</td>\n",
       "      <td>...</td>\n",
       "      <td>...</td>\n",
       "      <td>...</td>\n",
       "      <td>...</td>\n",
       "      <td>...</td>\n",
       "    </tr>\n",
       "    <tr>\n",
       "      <th>20120</th>\n",
       "      <td>[Bring all ingredients to a simmer, covered di...</td>\n",
       "      <td>NaN</td>\n",
       "      <td>2006-05-16 20:12:06+00:00</td>\n",
       "      <td>[Food Processor, Fruit, Side, Vegetarian, Date...</td>\n",
       "      <td>NaN</td>\n",
       "      <td>This recipe is an accompaniment for Rack of La...</td>\n",
       "      <td>NaN</td>\n",
       "      <td>2.500</td>\n",
       "      <td>Date Purée</td>\n",
       "      <td>[3 cups pitted dates (14 ounces), 1 (750-ml) b...</td>\n",
       "      <td>NaN</td>\n",
       "    </tr>\n",
       "    <tr>\n",
       "      <th>20122</th>\n",
       "      <td>[Mix first 4 ingredients in large pitcher. Cov...</td>\n",
       "      <td>0.0</td>\n",
       "      <td>2004-08-20 20:58:12+00:00</td>\n",
       "      <td>[Fruit Juice, Liqueur, Vodka, Alcoholic, Cockt...</td>\n",
       "      <td>84.0</td>\n",
       "      <td>None</td>\n",
       "      <td>0.0</td>\n",
       "      <td>3.750</td>\n",
       "      <td>Orange-Tini</td>\n",
       "      <td>[4 cups water, 1 750-ml bottle vodka (about 3 ...</td>\n",
       "      <td>5.0</td>\n",
       "    </tr>\n",
       "    <tr>\n",
       "      <th>20124</th>\n",
       "      <td>[Wash spareribs. Remove excess fat and gristle...</td>\n",
       "      <td>80.0</td>\n",
       "      <td>2004-08-20 04:00:00+00:00</td>\n",
       "      <td>[Pork, Appetizer, Bake, Marinate, Sherry, Fall...</td>\n",
       "      <td>998.0</td>\n",
       "      <td>None</td>\n",
       "      <td>55.0</td>\n",
       "      <td>3.750</td>\n",
       "      <td>Chinese Barbecued Spareribs</td>\n",
       "      <td>[1 side pork spareribs, about 3 pounds, 1/2 cu...</td>\n",
       "      <td>2027.0</td>\n",
       "    </tr>\n",
       "    <tr>\n",
       "      <th>20125</th>\n",
       "      <td>[Beat whites in a bowl with an electric mixer ...</td>\n",
       "      <td>2.0</td>\n",
       "      <td>2004-08-20 04:00:00+00:00</td>\n",
       "      <td>[Mixer, Cheese, Egg, Fry, Cocktail Party, Parm...</td>\n",
       "      <td>28.0</td>\n",
       "      <td>None</td>\n",
       "      <td>2.0</td>\n",
       "      <td>3.125</td>\n",
       "      <td>Parmesan Puffs</td>\n",
       "      <td>[2 large egg whites, 3 oz Parmigiano-Reggiano,...</td>\n",
       "      <td>64.0</td>\n",
       "    </tr>\n",
       "    <tr>\n",
       "      <th>20127</th>\n",
       "      <td>[Using a sharp knife, cut a shallow X in botto...</td>\n",
       "      <td>38.0</td>\n",
       "      <td>2005-10-21 18:21:20+00:00</td>\n",
       "      <td>[Onion, Poultry, turkey, Vegetable, Bake, Kid-...</td>\n",
       "      <td>563.0</td>\n",
       "      <td>None</td>\n",
       "      <td>31.0</td>\n",
       "      <td>4.375</td>\n",
       "      <td>Turkey Cream Puff Pie</td>\n",
       "      <td>[1 small tomato, 1 small onion, finely chopped...</td>\n",
       "      <td>652.0</td>\n",
       "    </tr>\n",
       "  </tbody>\n",
       "</table>\n",
       "<p>9522 rows × 11 columns</p>\n",
       "</div>"
      ],
      "text/plain": [
       "                                              directions   fat  \\\n",
       "0      [1. Place the stock, lentils, celery, carrot, ...   7.0   \n",
       "2      [In a large heavy saucepan cook diced fennel a...   7.0   \n",
       "3      [Heat oil in heavy large skillet over medium-h...   NaN   \n",
       "4      [Preheat oven to 350°F. Lightly grease 8x8x2-i...  32.0   \n",
       "6      [Cook potatoes and carrots in large pot of boi...   NaN   \n",
       "...                                                  ...   ...   \n",
       "20120  [Bring all ingredients to a simmer, covered di...   NaN   \n",
       "20122  [Mix first 4 ingredients in large pitcher. Cov...   0.0   \n",
       "20124  [Wash spareribs. Remove excess fat and gristle...  80.0   \n",
       "20125  [Beat whites in a bowl with an electric mixer ...   2.0   \n",
       "20127  [Using a sharp knife, cut a shallow X in botto...  38.0   \n",
       "\n",
       "                           date  \\\n",
       "0     2006-09-01 04:00:00+00:00   \n",
       "2     2004-08-20 04:00:00+00:00   \n",
       "3     2009-03-27 04:00:00+00:00   \n",
       "4     2004-08-20 04:00:00+00:00   \n",
       "6     2004-08-20 04:00:00+00:00   \n",
       "...                         ...   \n",
       "20120 2006-05-16 20:12:06+00:00   \n",
       "20122 2004-08-20 20:58:12+00:00   \n",
       "20124 2004-08-20 04:00:00+00:00   \n",
       "20125 2004-08-20 04:00:00+00:00   \n",
       "20127 2005-10-21 18:21:20+00:00   \n",
       "\n",
       "                                              categories  calories  \\\n",
       "0      [Sandwich, Bean, Fruit, Tomato, turkey, Vegeta...     426.0   \n",
       "2      [Soup/Stew, Dairy, Potato, Vegetable, Fennel, ...     165.0   \n",
       "3      [Fish, Olive, Tomato, Sauté, Low Fat, Low Cal,...       NaN   \n",
       "4      [Cheese, Dairy, Pasta, Vegetable, Side, Bake, ...     547.0   \n",
       "6      [Salad, Potato, Side, Easter, Low Fat, Quick &...       NaN   \n",
       "...                                                  ...       ...   \n",
       "20120  [Food Processor, Fruit, Side, Vegetarian, Date...       NaN   \n",
       "20122  [Fruit Juice, Liqueur, Vodka, Alcoholic, Cockt...      84.0   \n",
       "20124  [Pork, Appetizer, Bake, Marinate, Sherry, Fall...     998.0   \n",
       "20125  [Mixer, Cheese, Egg, Fry, Cocktail Party, Parm...      28.0   \n",
       "20127  [Onion, Poultry, turkey, Vegetable, Bake, Kid-...     563.0   \n",
       "\n",
       "                                                    desc  protein  rating  \\\n",
       "0                                                   None     30.0   2.500   \n",
       "2                                                   None      6.0   3.750   \n",
       "3      The Sicilian-style tomato sauce has tons of Me...      NaN   5.000   \n",
       "4                                                   None     20.0   3.125   \n",
       "6      Serve this newfangled main-course salad with a...      NaN   4.375   \n",
       "...                                                  ...      ...     ...   \n",
       "20120  This recipe is an accompaniment for Rack of La...      NaN   2.500   \n",
       "20122                                               None      0.0   3.750   \n",
       "20124                                               None     55.0   3.750   \n",
       "20125                                               None      2.0   3.125   \n",
       "20127                                               None     31.0   4.375   \n",
       "\n",
       "                                                   title  \\\n",
       "0                        Lentil, Apple, and Turkey Wrap    \n",
       "2                          Potato and Fennel Soup Hodge    \n",
       "3                       Mahi-Mahi in Tomato Olive Sauce    \n",
       "4                              Spinach Noodle Casserole    \n",
       "6      Ham and Spring Vegetable Salad with Shallot Vi...   \n",
       "...                                                  ...   \n",
       "20120                                        Date Purée    \n",
       "20122                                       Orange-Tini    \n",
       "20124                       Chinese Barbecued Spareribs    \n",
       "20125                                    Parmesan Puffs    \n",
       "20127                             Turkey Cream Puff Pie    \n",
       "\n",
       "                                             ingredients  sodium  \n",
       "0      [4 cups low-sodium vegetable or chicken stock,...   559.0  \n",
       "2      [1 fennel bulb (sometimes called anise), stalk...   165.0  \n",
       "3      [2 tablespoons extra-virgin olive oil, 1 cup c...     NaN  \n",
       "4      [1 12-ounce package frozen spinach soufflé, th...   452.0  \n",
       "6      [1 1/2 pounds small red-skinned potatoes, each...     NaN  \n",
       "...                                                  ...     ...  \n",
       "20120  [3 cups pitted dates (14 ounces), 1 (750-ml) b...     NaN  \n",
       "20122  [4 cups water, 1 750-ml bottle vodka (about 3 ...     5.0  \n",
       "20124  [1 side pork spareribs, about 3 pounds, 1/2 cu...  2027.0  \n",
       "20125  [2 large egg whites, 3 oz Parmigiano-Reggiano,...    64.0  \n",
       "20127  [1 small tomato, 1 small onion, finely chopped...   652.0  \n",
       "\n",
       "[9522 rows x 11 columns]"
      ]
     },
     "execution_count": 6,
     "metadata": {},
     "output_type": "execute_result"
    }
   ],
   "source": [
    "data[data.isna().any(axis=1)]"
   ]
  },
  {
   "cell_type": "markdown",
   "id": "c4bc8d62",
   "metadata": {},
   "source": [
    "Como visto, há valores NaN em todas as colunas e 9522 linhas com, pelo menos, 1 valor NaN. Poderíamos substituir os valores NaN pela média ou mediana, porém para não atrapalhar a análise, iremos excluir as observações com NaN."
   ]
  },
  {
   "cell_type": "code",
   "execution_count": 7,
   "id": "086f1c30",
   "metadata": {},
   "outputs": [],
   "source": [
    "nan_data = data[data.isna().any(axis=1)]\n",
    "x = nan_data.index"
   ]
  },
  {
   "cell_type": "code",
   "execution_count": 8,
   "id": "cf52aeab",
   "metadata": {},
   "outputs": [],
   "source": [
    "data_l = data.drop(x)"
   ]
  },
  {
   "cell_type": "code",
   "execution_count": 9,
   "id": "57768f4f",
   "metadata": {},
   "outputs": [],
   "source": [
    "data_l['rating'] = data_l['rating'].astype(int)\n",
    "data_l['fat'] = data_l['fat'].astype(int)\n",
    "data_l['calories'] = data_l['calories'].astype(int)\n",
    "data_l['protein'] = data_l['protein'].astype(int)\n",
    "data_l['sodium'] = data_l['sodium'].astype(int)"
   ]
  },
  {
   "cell_type": "markdown",
   "id": "769afae7",
   "metadata": {},
   "source": [
    "### 3. AED"
   ]
  },
  {
   "cell_type": "markdown",
   "id": "4e68456e",
   "metadata": {},
   "source": [
    "A seguir, iremos realizar uma breve análise exploratória de dados (AED) para buscar tendências e insights:"
   ]
  },
  {
   "cell_type": "code",
   "execution_count": 10,
   "id": "08bea974",
   "metadata": {
    "scrolled": false
   },
   "outputs": [
    {
     "data": {
      "image/png": "[encoded data removed]",
      "text/plain": [
       "<Figure size 1440x720 with 1 Axes>"
      ]
     },
     "metadata": {
      "needs_background": "light"
     },
     "output_type": "display_data"
    }
   ],
   "source": [
    "fig = plt.figure(figsize=(20,10))\n",
    "sns.countplot(x='fat', data=data_l)\n",
    "plt.locator_params(nbins=10)\n",
    "plt.xticks(rotation=90);"
   ]
  },
  {
   "cell_type": "code",
   "execution_count": 11,
   "id": "838e4b0b",
   "metadata": {},
   "outputs": [
    {
     "data": {
      "image/png": "[encoded data removed]",
      "text/plain": [
       "<Figure size 1440x720 with 1 Axes>"
      ]
     },
     "metadata": {
      "needs_background": "light"
     },
     "output_type": "display_data"
    }
   ],
   "source": [
    "fig = plt.figure(figsize=(20,10))\n",
    "sns.countplot(x='calories', data=data_l)\n",
    "plt.locator_params(nbins=10)\n",
    "plt.xticks(rotation=90);"
   ]
  },
  {
   "cell_type": "code",
   "execution_count": 12,
   "id": "c2e1d2c2",
   "metadata": {},
   "outputs": [
    {
     "data": {
      "image/png": "[encoded data removed]",
      "text/plain": [
       "<Figure size 1440x720 with 1 Axes>"
      ]
     },
     "metadata": {
      "needs_background": "light"
     },
     "output_type": "display_data"
    }
   ],
   "source": [
    "fig = plt.figure(figsize=(20,10))\n",
    "sns.countplot(x='protein', data=data_l)\n",
    "plt.locator_params(nbins=10)\n",
    "plt.xticks(rotation=90);"
   ]
  },
  {
   "cell_type": "code",
   "execution_count": 13,
   "id": "c5e764ff",
   "metadata": {},
   "outputs": [
    {
     "data": {
      "image/png": "[encoded data removed]",
      "text/plain": [
       "<Figure size 1440x720 with 1 Axes>"
      ]
     },
     "metadata": {
      "needs_background": "light"
     },
     "output_type": "display_data"
    }
   ],
   "source": [
    "fig = plt.figure(figsize=(20,10))\n",
    "sns.countplot(x='sodium', data=data_l)\n",
    "plt.locator_params(nbins=10)\n",
    "plt.xticks(rotation=90);"
   ]
  },
  {
   "cell_type": "markdown",
   "id": "654b5c9b",
   "metadata": {},
   "source": [
    "Pelos gráficos apresentados acima, pode-se notar que, apesar de valores extremos para cada uma das variáveis, a maior parte das receitas costumam conter baixos níveis gordura, sódio, proteina e calorias, o que pode indicar uma maior presença de receitas saudáveis na base de dados."
   ]
  },
  {
   "cell_type": "code",
   "execution_count": 14,
   "id": "ba08b67a",
   "metadata": {
    "scrolled": false
   },
   "outputs": [
    {
     "data": {
      "text/plain": [
       "<Figure size 1440x720 with 0 Axes>"
      ]
     },
     "metadata": {},
     "output_type": "display_data"
    },
    {
     "data": {
      "image/png": "[encoded data removed]",
      "text/plain": [
       "<Figure size 484.5x432 with 1 Axes>"
      ]
     },
     "metadata": {
      "needs_background": "light"
     },
     "output_type": "display_data"
    }
   ],
   "source": [
    "fig = plt.figure(figsize=(20,10))\n",
    "sns.relplot(x=\"fat\", y=\"calories\", hue=\"rating\", size=\"sodium\",\n",
    "            sizes=(40, 400), alpha=.5, palette=\"muted\",\n",
    "            height=6, data=data_l)\n",
    "plt.locator_params(nbins=10)\n",
    "plt.xticks(rotation=90);"
   ]
  },
  {
   "cell_type": "markdown",
   "id": "eb5d04e0",
   "metadata": {},
   "source": [
    "Pode-se notar também que há uma correlação positiva entre os níveis de gordura, calorias e sódio, alem de que as receitas que possuem um maior nível desses três fatores obtiveram altos valores de _rating_."
   ]
  },
  {
   "cell_type": "markdown",
   "id": "df3961d9",
   "metadata": {},
   "source": [
    "Futuras análises podem prover mais insights com um melhor desenvolvimento da base de dados, podendo desagregar as variáveis _ingredients_, _directions_ e _categories_ para analisar quais os ingredientes mais utilizados ao longo do tempo, quais as categorias com o maior número de receitas, quais os métodos de culinária mais predominantes, correlações entre os ingredientes e as variáveis _fat_, _calories_, _protein_ e _sodium_, assim, gerando um melhor entendimento dos dados fornecidos."
   ]
  }
 ],
 "metadata": {
  "kernelspec": {
   "display_name": "Python 3 (ipykernel)",
   "language": "python",
   "name": "python3"
  },
  "language_info": {
   "codemirror_mode": {
    "name": "ipython",
    "version": 3
   },
   "file_extension": ".py",
   "mimetype": "text/x-python",
   "name": "python",
   "nbconvert_exporter": "python",
   "pygments_lexer": "ipython3",
   "version": "3.9.12"
  }
 },
 "nbformat": 4,
 "nbformat_minor": 5
}
